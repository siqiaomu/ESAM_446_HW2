{
 "cells": [
  {
   "cell_type": "code",
   "execution_count": 1,
   "id": "bf8421fd",
   "metadata": {},
   "outputs": [],
   "source": [
    "import numpy as np\n",
    "import matplotlib.pyplot as plt\n",
    "import scipy"
   ]
  },
  {
   "cell_type": "code",
   "execution_count": 2,
   "id": "4569fed6",
   "metadata": {},
   "outputs": [],
   "source": [
    "import spectral"
   ]
  },
  {
   "cell_type": "code",
   "execution_count": 46,
   "id": "9b04f4db",
   "metadata": {},
   "outputs": [],
   "source": [
    "x_basis = spectral.Fourier(64) #creates basis, which is just N and interval\n",
    "domain = spectral.Domain([x_basis]) #just makes the basis... part of it???"
   ]
  },
  {
   "cell_type": "code",
   "execution_count": 55,
   "id": "a1243c20",
   "metadata": {},
   "outputs": [
    {
     "data": {
      "text/plain": [
       "64"
      ]
     },
     "execution_count": 55,
     "metadata": {},
     "output_type": "execute_result"
    }
   ],
   "source": [
    "x_basis.N"
   ]
  },
  {
   "cell_type": "code",
   "execution_count": 48,
   "id": "3446336d",
   "metadata": {},
   "outputs": [],
   "source": [
    "f = spectral.Field(domain) #sets domain and datatype and data to all zeros"
   ]
  },
  {
   "cell_type": "code",
   "execution_count": 53,
   "id": "10609f99",
   "metadata": {},
   "outputs": [
    {
     "data": {
      "text/plain": [
       "<spectral.Domain at 0x1a0d9b08488>"
      ]
     },
     "execution_count": 53,
     "metadata": {},
     "output_type": "execute_result"
    }
   ],
   "source": [
    "f.domain"
   ]
  },
  {
   "cell_type": "code",
   "execution_count": 7,
   "id": "503f3f1e",
   "metadata": {},
   "outputs": [],
   "source": [
    "f.require_grid_space()"
   ]
  },
  {
   "cell_type": "code",
   "execution_count": 8,
   "id": "bd6d756a",
   "metadata": {},
   "outputs": [
    {
     "data": {
      "text/plain": [
       "array([0.        , 0.09817477, 0.19634954, 0.29452431, 0.39269908,\n",
       "       0.49087385, 0.58904862, 0.68722339, 0.78539816, 0.88357293,\n",
       "       0.9817477 , 1.07992247, 1.17809725, 1.27627202, 1.37444679,\n",
       "       1.47262156, 1.57079633, 1.6689711 , 1.76714587, 1.86532064,\n",
       "       1.96349541, 2.06167018, 2.15984495, 2.25801972, 2.35619449,\n",
       "       2.45436926, 2.55254403, 2.6507188 , 2.74889357, 2.84706834,\n",
       "       2.94524311, 3.04341788, 3.14159265, 3.23976742, 3.33794219,\n",
       "       3.43611696, 3.53429174, 3.63246651, 3.73064128, 3.82881605,\n",
       "       3.92699082, 4.02516559, 4.12334036, 4.22151513, 4.3196899 ,\n",
       "       4.41786467, 4.51603944, 4.61421421, 4.71238898, 4.81056375,\n",
       "       4.90873852, 5.00691329, 5.10508806, 5.20326283, 5.3014376 ,\n",
       "       5.39961237, 5.49778714, 5.59596191, 5.69413668, 5.79231146,\n",
       "       5.89048623, 5.988661  , 6.08683577, 6.18501054])"
      ]
     },
     "execution_count": 8,
     "metadata": {},
     "output_type": "execute_result"
    }
   ],
   "source": [
    "x_basis.grid()"
   ]
  },
  {
   "cell_type": "code",
   "execution_count": 9,
   "id": "5feab1e5",
   "metadata": {},
   "outputs": [
    {
     "data": {
      "text/plain": [
       "<spectral.Fourier at 0x1a0d7833948>"
      ]
     },
     "execution_count": 9,
     "metadata": {},
     "output_type": "execute_result"
    }
   ],
   "source": [
    "f.domain.bases[0]"
   ]
  },
  {
   "cell_type": "code",
   "execution_count": 13,
   "id": "5de098c0",
   "metadata": {},
   "outputs": [],
   "source": [
    "f.data "
   ]
  },
  {
   "cell_type": "markdown",
   "id": "ad8998b8",
   "metadata": {},
   "source": [
    "First let's consider complex transforms."
   ]
  },
  {
   "cell_type": "code",
   "execution_count": 14,
   "id": "4c353a3c",
   "metadata": {},
   "outputs": [],
   "source": [
    "f = spectral.Field(domain, dtype=np.complex128)\n",
    "f.data[-1] = 1"
   ]
  },
  {
   "cell_type": "code",
   "execution_count": 15,
   "id": "6ffa17a2",
   "metadata": {},
   "outputs": [
    {
     "data": {
      "text/plain": [
       "array([0.+0.j, 0.+0.j, 0.+0.j, 0.+0.j, 0.+0.j, 0.+0.j, 0.+0.j, 0.+0.j,\n",
       "       0.+0.j, 0.+0.j, 0.+0.j, 0.+0.j, 0.+0.j, 0.+0.j, 0.+0.j, 0.+0.j,\n",
       "       0.+0.j, 0.+0.j, 0.+0.j, 0.+0.j, 0.+0.j, 0.+0.j, 0.+0.j, 0.+0.j,\n",
       "       0.+0.j, 0.+0.j, 0.+0.j, 0.+0.j, 0.+0.j, 0.+0.j, 0.+0.j, 0.+0.j,\n",
       "       0.+0.j, 0.+0.j, 0.+0.j, 0.+0.j, 0.+0.j, 0.+0.j, 0.+0.j, 0.+0.j,\n",
       "       0.+0.j, 0.+0.j, 0.+0.j, 0.+0.j, 0.+0.j, 0.+0.j, 0.+0.j, 0.+0.j,\n",
       "       0.+0.j, 0.+0.j, 0.+0.j, 0.+0.j, 0.+0.j, 0.+0.j, 0.+0.j, 0.+0.j,\n",
       "       0.+0.j, 0.+0.j, 0.+0.j, 0.+0.j, 0.+0.j, 0.+0.j, 0.+0.j, 1.+0.j])"
      ]
     },
     "execution_count": 15,
     "metadata": {},
     "output_type": "execute_result"
    }
   ],
   "source": [
    "f.data"
   ]
  },
  {
   "cell_type": "markdown",
   "id": "2eb482b0",
   "metadata": {},
   "source": [
    "We will use `scipy`'s FFT library. The documentation is listed here:\n",
    "\n",
    "https://docs.scipy.org/doc/scipy/tutorial/fft.html"
   ]
  },
  {
   "cell_type": "code",
   "execution_count": 16,
   "id": "617de9d3",
   "metadata": {},
   "outputs": [],
   "source": [
    "grid_data = scipy.fft.ifft(f.data)"
   ]
  },
  {
   "cell_type": "code",
   "execution_count": 17,
   "id": "b1c5a905",
   "metadata": {},
   "outputs": [
    {
     "data": {
      "text/plain": [
       "64"
      ]
     },
     "execution_count": 17,
     "metadata": {},
     "output_type": "execute_result"
    }
   ],
   "source": [
    "len(grid_data)"
   ]
  },
  {
   "cell_type": "code",
   "execution_count": 18,
   "id": "17956de5",
   "metadata": {},
   "outputs": [
    {
     "data": {
      "text/plain": [
       "[<matplotlib.lines.Line2D at 0x1a0d98bb2c8>]"
      ]
     },
     "execution_count": 18,
     "metadata": {},
     "output_type": "execute_result"
    },
    {
     "data": {
      "image/png": "[encoded data removed]",
      "text/plain": [
       "<Figure size 432x288 with 1 Axes>"
      ]
     },
     "metadata": {
      "needs_background": "light"
     },
     "output_type": "display_data"
    }
   ],
   "source": [
    "x = x_basis.grid()\n",
    "plt.plot(x, grid_data.real)\n",
    "plt.plot(x, np.exp(-1j*x).real/64, linestyle=':')\n",
    "plt.plot(x, grid_data.imag)\n",
    "plt.plot(x, np.exp(-1j*x).imag/64, linestyle=':')"
   ]
  },
  {
   "cell_type": "markdown",
   "id": "d03ecbb3",
   "metadata": {},
   "source": [
    "What if we want to evaluate the series on twice as many points?"
   ]
  },
  {
   "cell_type": "code",
   "execution_count": 23,
   "id": "a946e160",
   "metadata": {},
   "outputs": [],
   "source": [
    "f = spectral.Field(domain, dtype=np.complex128)\n",
    "f.data[-1] = 1"
   ]
  },
  {
   "cell_type": "code",
   "execution_count": 24,
   "id": "2b714cdf",
   "metadata": {},
   "outputs": [
    {
     "data": {
      "text/plain": [
       "array([0.+0.j, 0.+0.j, 0.+0.j, 0.+0.j, 0.+0.j, 0.+0.j, 0.+0.j, 0.+0.j,\n",
       "       0.+0.j, 0.+0.j, 0.+0.j, 0.+0.j, 0.+0.j, 0.+0.j, 0.+0.j, 0.+0.j,\n",
       "       0.+0.j, 0.+0.j, 0.+0.j, 0.+0.j, 0.+0.j, 0.+0.j, 0.+0.j, 0.+0.j,\n",
       "       0.+0.j, 0.+0.j, 0.+0.j, 0.+0.j, 0.+0.j, 0.+0.j, 0.+0.j, 0.+0.j,\n",
       "       0.+0.j, 0.+0.j, 0.+0.j, 0.+0.j, 0.+0.j, 0.+0.j, 0.+0.j, 0.+0.j,\n",
       "       0.+0.j, 0.+0.j, 0.+0.j, 0.+0.j, 0.+0.j, 0.+0.j, 0.+0.j, 0.+0.j,\n",
       "       0.+0.j, 0.+0.j, 0.+0.j, 0.+0.j, 0.+0.j, 0.+0.j, 0.+0.j, 0.+0.j,\n",
       "       0.+0.j, 0.+0.j, 0.+0.j, 0.+0.j, 0.+0.j, 0.+0.j, 0.+0.j, 1.+0.j])"
      ]
     },
     "execution_count": 24,
     "metadata": {},
     "output_type": "execute_result"
    }
   ],
   "source": [
    "f.data"
   ]
  },
  {
   "cell_type": "code",
   "execution_count": 25,
   "id": "e80b340f",
   "metadata": {},
   "outputs": [],
   "source": [
    "scale = 2\n",
    "coeff_expand = np.zeros(scale*x_basis.N, dtype=np.complex128)"
   ]
  },
  {
   "cell_type": "code",
   "execution_count": 26,
   "id": "3a264463",
   "metadata": {},
   "outputs": [
    {
     "name": "stdout",
     "output_type": "stream",
     "text": [
      "[0.+0.j 0.+0.j 0.+0.j 0.+0.j 0.+0.j 0.+0.j 0.+0.j 0.+0.j 0.+0.j 0.+0.j\n",
      " 0.+0.j 0.+0.j 0.+0.j 0.+0.j 0.+0.j 0.+0.j 0.+0.j 0.+0.j 0.+0.j 0.+0.j\n",
      " 0.+0.j 0.+0.j 0.+0.j 0.+0.j 0.+0.j 0.+0.j 0.+0.j 0.+0.j 0.+0.j 0.+0.j\n",
      " 0.+0.j 0.+0.j 0.+0.j 0.+0.j 0.+0.j 0.+0.j 0.+0.j 0.+0.j 0.+0.j 0.+0.j\n",
      " 0.+0.j 0.+0.j 0.+0.j 0.+0.j 0.+0.j 0.+0.j 0.+0.j 0.+0.j 0.+0.j 0.+0.j\n",
      " 0.+0.j 0.+0.j 0.+0.j 0.+0.j 0.+0.j 0.+0.j 0.+0.j 0.+0.j 0.+0.j 0.+0.j\n",
      " 0.+0.j 0.+0.j 0.+0.j 0.+0.j 0.+0.j 0.+0.j 0.+0.j 0.+0.j 0.+0.j 0.+0.j\n",
      " 0.+0.j 0.+0.j 0.+0.j 0.+0.j 0.+0.j 0.+0.j 0.+0.j 0.+0.j 0.+0.j 0.+0.j\n",
      " 0.+0.j 0.+0.j 0.+0.j 0.+0.j 0.+0.j 0.+0.j 0.+0.j 0.+0.j 0.+0.j 0.+0.j\n",
      " 0.+0.j 0.+0.j 0.+0.j 0.+0.j 0.+0.j 0.+0.j 0.+0.j 0.+0.j 0.+0.j 0.+0.j\n",
      " 0.+0.j 0.+0.j 0.+0.j 0.+0.j 0.+0.j 0.+0.j 0.+0.j 0.+0.j 0.+0.j 0.+0.j\n",
      " 0.+0.j 0.+0.j 0.+0.j 0.+0.j 0.+0.j 0.+0.j 0.+0.j 0.+0.j 0.+0.j 0.+0.j\n",
      " 0.+0.j 0.+0.j 0.+0.j 0.+0.j 0.+0.j 0.+0.j 0.+0.j 1.+0.j]\n"
     ]
    }
   ],
   "source": [
    "coeff_expand[-1] = f.data[-1]\n",
    "print(coeff_expand)"
   ]
  },
  {
   "cell_type": "code",
   "execution_count": 27,
   "id": "4f66f933",
   "metadata": {},
   "outputs": [],
   "source": [
    "grid_expand = scipy.fft.ifft(coeff_expand)"
   ]
  },
  {
   "cell_type": "code",
   "execution_count": 28,
   "id": "5b99be32",
   "metadata": {},
   "outputs": [
    {
     "data": {
      "text/plain": [
       "[<matplotlib.lines.Line2D at 0x1a0d9a7c948>]"
      ]
     },
     "execution_count": 28,
     "metadata": {},
     "output_type": "execute_result"
    },
    {
     "data": {
      "image/png": "[encoded data removed]",
      "text/plain": [
       "<Figure size 432x288 with 1 Axes>"
      ]
     },
     "metadata": {
      "needs_background": "light"
     },
     "output_type": "display_data"
    }
   ],
   "source": [
    "x = x_basis.grid(scale=2)\n",
    "plt.plot(x, grid_expand.real)\n",
    "plt.plot(x, np.exp(-1j*x).real/128, linestyle=':')\n",
    "plt.plot(x, grid_expand.imag)\n",
    "plt.plot(x, np.exp(-1j*x).imag/128, linestyle=':')"
   ]
  },
  {
   "cell_type": "code",
   "execution_count": 29,
   "id": "1b6f2d82",
   "metadata": {},
   "outputs": [
    {
     "data": {
      "text/plain": [
       "128"
      ]
     },
     "execution_count": 29,
     "metadata": {},
     "output_type": "execute_result"
    }
   ],
   "source": [
    "len(x)"
   ]
  },
  {
   "cell_type": "markdown",
   "id": "2409fa9c",
   "metadata": {},
   "source": [
    "How about real transform?"
   ]
  },
  {
   "cell_type": "code",
   "execution_count": 60,
   "id": "03f218c1",
   "metadata": {},
   "outputs": [],
   "source": [
    "x_basis = spectral.Fourier(64)\n",
    "domain = spectral.Domain([x_basis])\n",
    "f = spectral.Field(domain)\n",
    "f.require_grid_space()"
   ]
  },
  {
   "cell_type": "code",
   "execution_count": 61,
   "id": "4124b741",
   "metadata": {},
   "outputs": [],
   "source": [
    "x = x_basis.grid()\n",
    "f.data = np.cos(x)"
   ]
  },
  {
   "cell_type": "code",
   "execution_count": 62,
   "id": "195f3a0f",
   "metadata": {},
   "outputs": [],
   "source": [
    "coeffs = scipy.fft.rfft(f.data)"
   ]
  },
  {
   "cell_type": "code",
   "execution_count": 63,
   "id": "157261b2",
   "metadata": {},
   "outputs": [
    {
     "data": {
      "text/plain": [
       "64"
      ]
     },
     "execution_count": 63,
     "metadata": {},
     "output_type": "execute_result"
    }
   ],
   "source": [
    "len(f.data)"
   ]
  },
  {
   "cell_type": "code",
   "execution_count": 64,
   "id": "c57a5b88",
   "metadata": {},
   "outputs": [
    {
     "data": {
      "text/plain": [
       "array([-3.07843348e-15+0.00000000e+00j,  3.20000000e+01-3.13150922e-15j,\n",
       "        4.17524237e-16+5.96887777e-16j, -6.44812792e-16+2.18617780e-16j,\n",
       "        6.80942720e-16-9.99212849e-16j,  7.34768772e-17+1.74248309e-16j,\n",
       "        9.48581531e-16+1.96638075e-16j,  5.35688262e-16+6.85838416e-16j,\n",
       "        4.52759227e-18+6.32848650e-16j,  9.38581024e-16+5.39918503e-16j,\n",
       "       -3.31473011e-16-3.85435384e-16j,  1.20489257e-15-4.05346260e-16j,\n",
       "        4.00473117e-16+6.97104572e-16j, -8.46821856e-16-3.34119783e-17j,\n",
       "        4.47675833e-16-1.44456276e-15j,  6.66133815e-16+2.44929360e-16j,\n",
       "       -2.33486982e-16+1.81799020e-15j, -6.66133815e-16-2.44929360e-16j,\n",
       "       -3.09979810e-16-5.52283198e-16j, -8.24480191e-16-2.95208465e-16j,\n",
       "       -2.01313267e-16-7.65233776e-16j,  5.58302434e-16-2.96704695e-16j,\n",
       "        3.30114273e-17-1.43780097e-16j,  1.23919978e-15+1.01887555e-15j,\n",
       "        4.16676863e-16+2.40920549e-15j, -2.71346906e-15+1.07325644e-15j,\n",
       "        1.53757264e-16-1.44581759e-15j,  8.27863383e-16+3.74428893e-16j,\n",
       "       -4.81782870e-16+1.09116248e-15j, -3.48420421e-16-1.34717726e-16j,\n",
       "       -3.79380031e-16-3.94943607e-16j,  0.00000000e+00+2.28847549e-17j,\n",
       "       -5.30757409e-17+0.00000000e+00j])"
      ]
     },
     "execution_count": 64,
     "metadata": {},
     "output_type": "execute_result"
    }
   ],
   "source": [
    "coeffs"
   ]
  },
  {
   "cell_type": "code",
   "execution_count": 65,
   "id": "722e5627",
   "metadata": {},
   "outputs": [],
   "source": [
    "coeff_data = np.zeros(x_basis.N)"
   ]
  },
  {
   "cell_type": "code",
   "execution_count": 66,
   "id": "7db3b757",
   "metadata": {},
   "outputs": [],
   "source": [
    "coeff_data[::2] = coeffs.real[:32]\n",
    "coeff_data[1::2] = coeffs.imag[:32]"
   ]
  },
  {
   "cell_type": "code",
   "execution_count": 67,
   "id": "fe93779d",
   "metadata": {},
   "outputs": [
    {
     "data": {
      "text/plain": [
       "array([-3.07843348e-15,  0.00000000e+00,  3.20000000e+01, -3.13150922e-15,\n",
       "        4.17524237e-16,  5.96887777e-16, -6.44812792e-16,  2.18617780e-16,\n",
       "        6.80942720e-16, -9.99212849e-16,  7.34768772e-17,  1.74248309e-16,\n",
       "        9.48581531e-16,  1.96638075e-16,  5.35688262e-16,  6.85838416e-16,\n",
       "        4.52759227e-18,  6.32848650e-16,  9.38581024e-16,  5.39918503e-16,\n",
       "       -3.31473011e-16, -3.85435384e-16,  1.20489257e-15, -4.05346260e-16,\n",
       "        4.00473117e-16,  6.97104572e-16, -8.46821856e-16, -3.34119783e-17,\n",
       "        4.47675833e-16, -1.44456276e-15,  6.66133815e-16,  2.44929360e-16,\n",
       "       -2.33486982e-16,  1.81799020e-15, -6.66133815e-16, -2.44929360e-16,\n",
       "       -3.09979810e-16, -5.52283198e-16, -8.24480191e-16, -2.95208465e-16,\n",
       "       -2.01313267e-16, -7.65233776e-16,  5.58302434e-16, -2.96704695e-16,\n",
       "        3.30114273e-17, -1.43780097e-16,  1.23919978e-15,  1.01887555e-15,\n",
       "        4.16676863e-16,  2.40920549e-15, -2.71346906e-15,  1.07325644e-15,\n",
       "        1.53757264e-16, -1.44581759e-15,  8.27863383e-16,  3.74428893e-16,\n",
       "       -4.81782870e-16,  1.09116248e-15, -3.48420421e-16, -1.34717726e-16,\n",
       "       -3.79380031e-16, -3.94943607e-16,  0.00000000e+00,  2.28847549e-17])"
      ]
     },
     "execution_count": 67,
     "metadata": {},
     "output_type": "execute_result"
    }
   ],
   "source": [
    "coeff_data"
   ]
  },
  {
   "cell_type": "code",
   "execution_count": 68,
   "id": "ab58990d",
   "metadata": {},
   "outputs": [
    {
     "data": {
      "text/plain": [
       "[<matplotlib.lines.Line2D at 0x1a0d9b34548>]"
      ]
     },
     "execution_count": 68,
     "metadata": {},
     "output_type": "execute_result"
    },
    {
     "data": {
      "image/png": "[encoded data removed]",
      "text/plain": [
       "<Figure size 432x288 with 1 Axes>"
      ]
     },
     "metadata": {
      "needs_background": "light"
     },
     "output_type": "display_data"
    }
   ],
   "source": [
    "plt.plot(x, np.cos(32*x))"
   ]
  },
  {
   "cell_type": "markdown",
   "id": "2af8aa2b",
   "metadata": {},
   "source": [
    "How about the transform to grid space?"
   ]
  },
  {
   "cell_type": "code",
   "execution_count": 69,
   "id": "15821eef",
   "metadata": {},
   "outputs": [],
   "source": [
    "f.require_coeff_space()\n",
    "f.data = np.zeros(x_basis.N)\n",
    "f.data[4] = 1"
   ]
  },
  {
   "cell_type": "code",
   "execution_count": 70,
   "id": "21c6915c",
   "metadata": {},
   "outputs": [
    {
     "data": {
      "text/plain": [
       "64"
      ]
     },
     "execution_count": 70,
     "metadata": {},
     "output_type": "execute_result"
    }
   ],
   "source": [
    "len(f.data)"
   ]
  },
  {
   "cell_type": "code",
   "execution_count": 95,
   "id": "a18a92a1",
   "metadata": {},
   "outputs": [],
   "source": [
    "complex_data = np.zeros(x_basis.N//2+1, dtype=np.complex128)\n",
    "complex_data[:32].real = f.data[::2]\n",
    "complex_data[:32].imag = f.data[1::2]"
   ]
  },
  {
   "cell_type": "code",
   "execution_count": 96,
   "id": "07ff438f",
   "metadata": {},
   "outputs": [],
   "source": [
    "grid_data = scipy.fft.irfft(complex_data)"
   ]
  },
  {
   "cell_type": "code",
   "execution_count": 101,
   "id": "1ac3f535",
   "metadata": {},
   "outputs": [
    {
     "data": {
      "text/plain": [
       "[<matplotlib.lines.Line2D at 0x7ff75809ad90>]"
      ]
     },
     "execution_count": 101,
     "metadata": {},
     "output_type": "execute_result"
    },
    {
     "data": {
      "image/png": "[encoded data removed]",
      "text/plain": [
       "<Figure size 432x288 with 1 Axes>"
      ]
     },
     "metadata": {
      "needs_background": "light"
     },
     "output_type": "display_data"
    }
   ],
   "source": [
    "x = x_basis.grid()\n",
    "plt.plot(x, grid_data*32)\n",
    "plt.plot(x, np.cos(2*x), linestyle=\":\")"
   ]
  },
  {
   "cell_type": "code",
   "execution_count": null,
   "id": "dca013f2",
   "metadata": {},
   "outputs": [],
   "source": []
  }
 ],
 "metadata": {
  "kernelspec": {
   "display_name": "Python 3 (ipykernel)",
   "language": "python",
   "name": "python3"
  },
  "language_info": {
   "codemirror_mode": {
    "name": "ipython",
    "version": 3
   },
   "file_extension": ".py",
   "mimetype": "text/x-python",
   "name": "python",
   "nbconvert_exporter": "python",
   "pygments_lexer": "ipython3",
   "version": "3.7.4"
  }
 },
 "nbformat": 4,
 "nbformat_minor": 5
}
